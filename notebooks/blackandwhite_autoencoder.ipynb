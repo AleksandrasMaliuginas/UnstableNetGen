{
 "cells": [
  {
   "cell_type": "code",
   "execution_count": 1,
   "metadata": {},
   "outputs": [
    {
     "name": "stdout",
     "output_type": "stream",
     "text": [
      "nvcc: NVIDIA (R) Cuda compiler driver\n",
      "Copyright (c) 2005-2021 NVIDIA Corporation\n",
      "Built on Thu_Nov_18_09:45:30_PST_2021\n",
      "Cuda compilation tools, release 11.5, V11.5.119\n",
      "Build cuda_11.5.r11.5/compiler.30672275_0\n"
     ]
    }
   ],
   "source": [
    "!nvcc --version"
   ]
  },
  {
   "cell_type": "code",
   "execution_count": 3,
   "metadata": {},
   "outputs": [
    {
     "name": "stderr",
     "output_type": "stream",
     "text": [
      "2024-03-11 17:02:53.647332: I external/local_tsl/tsl/cuda/cudart_stub.cc:32] Could not find cuda drivers on your machine, GPU will not be used.\n",
      "2024-03-11 17:02:53.697211: I tensorflow/core/platform/cpu_feature_guard.cc:210] This TensorFlow binary is optimized to use available CPU instructions in performance-critical operations.\n",
      "To enable the following instructions: AVX2 FMA, in other operations, rebuild TensorFlow with the appropriate compiler flags.\n",
      "2024-03-11 17:02:54.575917: W tensorflow/compiler/tf2tensorrt/utils/py_utils.cc:38] TF-TRT Warning: Could not find TensorRT\n"
     ]
    }
   ],
   "source": [
    "import numpy as np # linear algebra\n",
    "import pandas as pd # data processing, CSV file I/O (e.g. pd.read_csv)\n",
    "import os, sys # filesystem operations\n",
    "import matplotlib.pyplot as plt\n",
    "import cv2\n",
    "import random\n",
    "import torch\n",
    "from torch import nn\n",
    "import torch.nn as nn\n",
    "import torch.nn.functional as F\n",
    "from PIL import Image\n",
    "from argparse import Namespace\n",
    "import tensorflow.keras.datasets\n",
    "import matplotlib.pyplot"
   ]
  },
  {
   "cell_type": "code",
   "execution_count": 4,
   "metadata": {},
   "outputs": [
    {
     "name": "stdout",
     "output_type": "stream",
     "text": [
      "Downloading data from https://storage.googleapis.com/tensorflow/tf-keras-datasets/mnist.npz\n",
      "\u001b[1m11490434/11490434\u001b[0m \u001b[32m━━━━━━━━━━━━━━━━━━━━\u001b[0m\u001b[37m\u001b[0m \u001b[1m2s\u001b[0m 0us/step\n",
      "{0, 1, 2, 3, 4, 5, 6, 7, 8, 9}\n"
     ]
    }
   ],
   "source": [
    "# Preparing MNIST Dataset\n",
    "(x_train_orig, y_train), (x_test_orig, y_test) = tensorflow.keras.datasets.mnist.load_data()\n",
    "x_train_orig = x_train_orig.astype(\"float32\") / 255.0\n",
    "x_test_orig = x_test_orig.astype(\"float32\") / 255.0\n",
    "x_train = np.reshape(x_train_orig, newshape=(x_train_orig.shape[0], np.prod(x_train_orig.shape[1:])))\n",
    "x_test = np.reshape(x_test_orig, newshape=(x_test_orig.shape[0], np.prod(x_test_orig.shape[1:])))\n",
    "print(set(y_train))\n",
    "class DS():\n",
    "    def __init__(self, x_data, y_data):\n",
    "        self.data=x_data\n",
    "        self.labels=y_data\n",
    "        self.categories=[0, 1, 2, 3, 4, 5, 6, 7, 8, 9]\n",
    "    def __len__(self):\n",
    "        return len(self.data)\n",
    "    def __getitem__(self, idx):\n",
    "        #class_id = torch.as_tensor(self.categories.index(self.labels[idx]), dtype=torch.int64)\n",
    "        img=self.data[idx]\n",
    "        return torch.tensor(img), torch.tensor(img)\n",
    "train_data=DS(x_train, x_train)\n",
    "test_data=DS(x_test, x_test)"
   ]
  },
  {
   "cell_type": "code",
   "execution_count": 5,
   "metadata": {},
   "outputs": [],
   "source": [
    "# Encoder\n",
    "class Encoder(nn.Module):\n",
    "    def __init__(self):\n",
    "        super(Encoder, self).__init__()\n",
    "        self.dense_layer1 = nn.Linear(in_features=784, out_features=300)\n",
    "        self.dense_layer2 = nn.Linear(in_features=300, out_features=4)\n",
    "\n",
    "    def forward(self, x):\n",
    "        x = F.leaky_relu(self.dense_layer1(x))\n",
    "        x = F.leaky_relu(self.dense_layer2(x))\n",
    "        return x"
   ]
  },
  {
   "cell_type": "code",
   "execution_count": 6,
   "metadata": {},
   "outputs": [],
   "source": [
    "class Decoder(nn.Module):\n",
    "    def __init__(self):\n",
    "        super(Decoder, self).__init__()\n",
    "        self.dense_layer1 = nn.Linear(in_features=4, out_features=300)\n",
    "        self.dense_layer2 = nn.Linear(in_features=300, out_features=784)\n",
    "\n",
    "    def forward(self, x):\n",
    "        x = F.leaky_relu(self.dense_layer1(x))\n",
    "        x = F.leaky_relu(self.dense_layer2(x))\n",
    "        return x"
   ]
  },
  {
   "cell_type": "code",
   "execution_count": 7,
   "metadata": {},
   "outputs": [],
   "source": [
    "class Autoencoder(nn.Module):\n",
    "    def __init__(self, encoder, decoder):\n",
    "        super(Autoencoder, self).__init__()\n",
    "        self.encoder = encoder\n",
    "        self.decoder = decoder\n",
    "\n",
    "    def forward(self, x):\n",
    "        x = self.encoder(x)\n",
    "        x = self.decoder(x)\n",
    "        return x\n",
    "myEncoder=Encoder()\n",
    "myDecoder=Decoder()"
   ]
  },
  {
   "cell_type": "code",
   "execution_count": 11,
   "metadata": {},
   "outputs": [
    {
     "name": "stdout",
     "output_type": "stream",
     "text": [
      "cuda:0\n"
     ]
    }
   ],
   "source": [
    "device = torch.device(\"cuda:0\") if torch.cuda.is_available() else torch.device(\"cpu\")\n",
    "print(device)\n",
    "myModel = Autoencoder(myEncoder, myDecoder)\n",
    "myModel = myModel.to(device)\n",
    "train_dl=torch.utils.data.DataLoader(train_data, batch_size=64, shuffle=True)\n",
    "test_dl=torch.utils.data.DataLoader(test_data, batch_size=64, shuffle=True)"
   ]
  },
  {
   "cell_type": "code",
   "execution_count": 9,
   "metadata": {},
   "outputs": [],
   "source": [
    "def inference (model, val_dl):\n",
    "    all_preds=[]\n",
    "    all_labels=[]\n",
    "    correct_prediction = 0\n",
    "    total_prediction = 0\n",
    "\n",
    "    # Disable gradient updates\n",
    "    with torch.no_grad():\n",
    "        for data in val_dl:\n",
    "            # Get the input features and target labels, and put them on the GPU\n",
    "            inputs, labels = data[0].to(device), data[1].to(device)\n",
    "\n",
    "            # Normalize the inputs\n",
    "            inputs_m, inputs_s = inputs.mean(), inputs.std()\n",
    "            inputs = (inputs - inputs_m) / inputs_s\n",
    "\n",
    "            # Get predictions\n",
    "            outputs = model(inputs)\n",
    "\n",
    "            # Get the predicted class with the highest score\n",
    "            _, prediction = torch.max(outputs,1)\n",
    "            # Count of predictions that matched the target label\n",
    "            correct_prediction += (prediction == labels).sum().item()\n",
    "            total_prediction += prediction.shape[0]\n",
    "            \n",
    "            all_preds.append(prediction.to(torch.device(\"cpu\")))\n",
    "            all_labels.append(labels.to(torch.device(\"cpu\")))\n",
    "    acc = correct_prediction/total_prediction\n",
    "    print(f'Accuracy: {acc:.2f}, Total items: {total_prediction}')\n",
    "    return all_preds, all_labels, acc"
   ]
  },
  {
   "cell_type": "code",
   "execution_count": 10,
   "metadata": {},
   "outputs": [],
   "source": [
    "testacclist=[]\n",
    "trainingacclist=[]"
   ]
  },
  {
   "cell_type": "code",
   "execution_count": 20,
   "metadata": {},
   "outputs": [
    {
     "name": "stdout",
     "output_type": "stream",
     "text": [
      "28.37727333046496\n",
      "0\n",
      "28.449555350467563\n",
      "1\n",
      "28.599484337493777\n",
      "2\n",
      "28.789523208513856\n",
      "3\n",
      "28.963422434404492\n",
      "4\n",
      "29.071595123037696\n",
      "5\n",
      "29.119824070483446\n",
      "6\n",
      "29.120114982128143\n",
      "7\n",
      "29.04029551334679\n",
      "8\n",
      "28.946661619469523\n",
      "9\n",
      "28.801227239891887\n",
      "10\n",
      "28.629961039870977\n",
      "11\n",
      "28.454194024205208\n",
      "12\n",
      "28.27207527682185\n",
      "13\n",
      "28.081301415339112\n",
      "14\n",
      "27.907068265601993\n",
      "15\n",
      "27.752271046862006\n",
      "16\n",
      "27.58260765299201\n",
      "17\n",
      "27.41126362234354\n",
      "18\n",
      "27.267693359404802\n",
      "19\n",
      "27.095579659566283\n",
      "20\n",
      "26.951081104576588\n",
      "21\n",
      "26.784507635980844\n",
      "22\n",
      "26.61750976368785\n",
      "23\n",
      "26.471731536090374\n",
      "24\n",
      "26.32269816286862\n",
      "25\n",
      "26.18790509365499\n",
      "26\n",
      "26.04149341210723\n",
      "27\n",
      "25.905742160975933\n",
      "28\n",
      "25.78254819661379\n",
      "29\n",
      "25.67033783905208\n",
      "30\n",
      "25.556417755782604\n",
      "31\n",
      "25.460753194987774\n",
      "32\n",
      "25.372045824304223\n",
      "33\n",
      "25.298607235774398\n",
      "34\n",
      "25.236292270943522\n",
      "35\n",
      "25.188717301934958\n",
      "36\n",
      "25.146643608808517\n",
      "37\n",
      "25.11983721703291\n",
      "38\n",
      "25.10646310262382\n",
      "39\n"
     ]
    }
   ],
   "source": [
    "def training(model, train_dl, num_epochs, iteration):\n",
    "    # Loss Function, Optimizer and Scheduler  \n",
    "    criterion = nn.MSELoss()\n",
    "    optimizer = torch.optim.Adam(model.parameters(),lr=0.0001)#01)\n",
    "    scheduler = torch.optim.lr_scheduler.OneCycleLR(optimizer, max_lr=0.001,\n",
    "                                                steps_per_epoch=int(len(train_dl)),\n",
    "                                                epochs=num_epochs\n",
    "                                                )\n",
    "\n",
    "    # Repeat for each epoch\n",
    "    for epoch in range(num_epochs):\n",
    "        running_loss = 0.0\n",
    "        correct_prediction = 0\n",
    "        total_prediction = 0\n",
    "\n",
    "        # Repeat for each batch in the training set\n",
    "        for i, data in enumerate(train_dl):\n",
    "            # Get the input features and target labels, and put them on the GPU\n",
    "            inputs, labels = data[0].to(device), data[1].to(device)\n",
    "            #print(labels.is_cuda)\n",
    "            #print(np.shape(inputs))\n",
    "            # Normalize the inputs\n",
    "            #inputs_m, inputs_s = inputs.mean(), inputs.std()\n",
    "            #inputs = (inputs - inputs_m) / inputs_s\n",
    "            #print(inputs.is_cuda)\n",
    "            # Zero the parameter gradients\n",
    "            optimizer.zero_grad()\n",
    "\n",
    "            # forward + backward + optimize\n",
    "            outputs = model(inputs)\n",
    "            #print(outputs.is_cuda)\n",
    "            loss = criterion(outputs, labels)\n",
    "            loss.backward()\n",
    "            optimizer.step()\n",
    "            scheduler.step()\n",
    "\n",
    "            # Keep stats for Loss and Accuracy\n",
    "            running_loss += loss.item()\n",
    "        print(running_loss)\n",
    "        print(epoch)\n",
    "for i in range(1):\n",
    "    num_epochs=40\n",
    "    iteration=i\n",
    "    training(myModel, train_dl, num_epochs, iteration)\n",
    "    #trainingacclist.append(trainacc)\n",
    "    \n",
    "    #temp1, temp2, testacc=inference(myModel, test_dl)\n",
    "    #testacclist.append(testacc)\n",
    "#x_axis = list(range(1, len(testacclist) + 1))\n",
    "#plt.plot(x_axis, trainingacclist, x_axis, testacclist)"
   ]
  },
  {
   "cell_type": "code",
   "execution_count": 42,
   "metadata": {},
   "outputs": [
    {
     "name": "stdout",
     "output_type": "stream",
     "text": [
      "tensor([4.4763, 6.7185, 8.3424, 4.3088], device='cuda:0',\n",
      "       grad_fn=<LeakyReluBackward0>)\n"
     ]
    },
    {
     "data": {
      "text/plain": [
       "<matplotlib.image.AxesImage at 0x7ce00cd73310>"
      ]
     },
     "execution_count": 42,
     "metadata": {},
     "output_type": "execute_result"
    },
    {
     "data": {
      "image/png": "[encoded data removed]",
      "text/plain": [
       "<Figure size 640x480 with 2 Axes>"
      ]
     },
     "metadata": {},
     "output_type": "display_data"
    }
   ],
   "source": [
    "for i, data in enumerate(test_dl):\n",
    "    # Get the input features and target labels, and put them on the GPU\n",
    "    inputs, labels = data[0].to(device), data[1].to(device)\n",
    "    break\n",
    "#print(inputs.shape)\n",
    "orig=inputs[0].reshape(28,28)\n",
    "output=myEncoder(inputs[0])\n",
    "print(output)\n",
    "output=myDecoder(output)\n",
    "\n",
    "output=output.detach().cpu().numpy()\n",
    "output=output.reshape(28,28)\n",
    "matplotlib.pyplot.subplot(2, 2, 1)\n",
    "matplotlib.pyplot.imshow(orig.detach().cpu(), cmap=\"gray\")\n",
    "matplotlib.pyplot.subplot(2, 2, 2)\n",
    "matplotlib.pyplot.imshow(output, cmap=\"gray\")"
   ]
  }
 ],
 "metadata": {
  "kernelspec": {
   "display_name": ".venv",
   "language": "python",
   "name": "python3"
  },
  "language_info": {
   "codemirror_mode": {
    "name": "ipython",
    "version": 3
   },
   "file_extension": ".py",
   "mimetype": "text/x-python",
   "name": "python",
   "nbconvert_exporter": "python",
   "pygments_lexer": "ipython3",
   "version": "3.11.8"
  }
 },
 "nbformat": 4,
 "nbformat_minor": 2
}
