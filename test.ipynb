{
 "cells": [
  {
   "cell_type": "code",
   "execution_count": null,
   "metadata": {},
   "outputs": [],
   "source": [
    "import torch\n",
    "import numpy as np\n",
    "import os\n",
    "import glob\n",
    "import collections\n",
    "from PIL import Image\n",
    "from compress import prepare_model, prepare_dataloader, compress_and_save, load_and_decompress\n",
    "import shutil\n",
    "File = collections.namedtuple('File', ['output_path', 'compressed_path',\n",
    "                                       'num_bytes', 'bpp'])\n",
    "original_sizes = dict()\n",
    "weights_path='weights/hific_low.pt'\n",
    "img_path='pepeimg'\n",
    "stage_path='temp_dir'\n",
    "out_path='outputimg'\n",
    "model_choice='HIFIC-low'\n",
    "model_choices = {'HIFIC-low': '1hfFTkZbs_VOBmXQ-M4bYEPejrD76lAY9',\n",
    "                 'HIFIC-med': '1QNoX0AGKTBkthMJGPfQI0dT0_tnysYUb',\n",
    "                 'HIFIC-high': '1BFYpvhVIA_Ek2QsHBbKnaBE8wn1GhFyA'}\n",
    "model_ID = model_choices[model_choice]"
   ]
  },
  {
   "cell_type": "code",
   "execution_count": null,
   "metadata": {},
   "outputs": [],
   "source": [
    "if torch.cuda.is_available() is False:\n",
    "  print('WARNING: No GPU found. Compression/decompression will be slow!')\n",
    "else:\n",
    "  print(f'Found GPU {torch.cuda.get_device_name(0)}')\n",
    "model, args = prepare_model(weights_path, stage_path)"
   ]
  },
  {
   "cell_type": "code",
   "execution_count": null,
   "metadata": {},
   "outputs": [],
   "source": [
    "all_files = os.listdir(img_path)\n",
    "print(f'Got following files ({len(all_files)}):')\n",
    "scale_factor = 2 if len(all_files) == 1 else 4\n",
    "\n",
    "for file_name in all_files:\n",
    "    img = Image.open(os.path.join(img_path, file_name))\n",
    "    w, h = img.size\n",
    "    img = img.resize((w // scale_factor, h // scale_factor))\n",
    "    print('-> ' + file_name + ':')\n",
    "    display(img)"
   ]
  },
  {
   "cell_type": "code",
   "execution_count": null,
   "metadata": {},
   "outputs": [],
   "source": [
    "\n",
    "SUPPORTED_EXT = {'.png', '.jpg'}\n",
    "\n",
    "all_files = os.listdir(img_path)\n",
    "if not all_files:\n",
    "    raise ValueError(\"Please upload/download images!\")\n",
    "\n",
    "def get_bpp(image_dimensions, num_bytes):\n",
    "    w, h = image_dimensions\n",
    "    return num_bytes * 8 / (w * h)\n",
    "\n",
    "def has_alpha(img_p):\n",
    "    im = Image.open(img_p)\n",
    "    return im.mode == 'RGBA'\n",
    "\n",
    "for filename in os.listdir(stage_path):\n",
    "    file_path=os.path.join(stage_path, filename)\n",
    "    if os.path.isfile(file_path):\n",
    "        os.unlink(file_path)\n",
    "for file_name in all_files:\n",
    "    if os.path.isdir(file_name):\n",
    "        continue\n",
    "    if not any(file_name.endswith(ext) for ext in SUPPORTED_EXT):\n",
    "        print('Skipping non-image', file_name, '...')\n",
    "        continue\n",
    "    full_path = os.path.join(img_path, file_name)\n",
    "    if has_alpha(full_path) is True:\n",
    "        print('Skipping because of alpha channel:', file_name)\n",
    "        continue\n",
    "    file_name, _ = os.path.splitext(file_name)\n",
    "    original_sizes[file_name] = os.path.getsize(full_path)\n",
    "    output_path = os.path.join(out_path, f'{file_name}.png')\n",
    "    #!mv -v $full_path $stage_path\n",
    "    shutil.copy(full_path, stage_path)"
   ]
  },
  {
   "cell_type": "code",
   "execution_count": null,
   "metadata": {},
   "outputs": [],
   "source": [
    "data_loader=prepare_dataloader(args, stage_path, out_path)"
   ]
  },
  {
   "cell_type": "code",
   "execution_count": null,
   "metadata": {},
   "outputs": [],
   "source": [
    "compress_and_save(model, args, data_loader, out_path)"
   ]
  },
  {
   "cell_type": "code",
   "execution_count": null,
   "metadata": {},
   "outputs": [],
   "source": [
    "all_outputs = []\n",
    "\n",
    "for compressed_file in glob.glob(os.path.join(out_path, '*.hfc')):\n",
    "    file_name, _ = os.path.splitext(compressed_file)\n",
    "    output_path = os.path.join(out_path, f'{file_name}.png')\n",
    "\n",
    "    # Model decode\n",
    "    reconstruction = load_and_decompress(model, compressed_file, output_path)\n",
    "    \n",
    "    all_outputs.append(File(output_path=output_path,\n",
    "                            compressed_path=compressed_file,\n",
    "                            num_bytes=os.path.getsize(compressed_file),\n",
    "                            bpp=get_bpp(Image.open(output_path).size, os.path.getsize(compressed_file))))\n",
    "              "
   ]
  }
 ],
 "metadata": {
  "kernelspec": {
   "display_name": "Python 3",
   "language": "python",
   "name": "python3"
  },
  "language_info": {
   "codemirror_mode": {
    "name": "ipython",
    "version": 3
   },
   "file_extension": ".py",
   "mimetype": "text/x-python",
   "name": "python",
   "nbconvert_exporter": "python",
   "pygments_lexer": "ipython3",
   "version": "3.9.18"
  }
 },
 "nbformat": 4,
 "nbformat_minor": 2
}
